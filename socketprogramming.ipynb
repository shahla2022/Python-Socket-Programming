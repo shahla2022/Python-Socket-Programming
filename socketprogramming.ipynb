{
 "cells": [
  {
   "attachments": {},
   "cell_type": "markdown",
   "metadata": {},
   "source": [
    "# Socket programming\n",
    "\n",
    "Socket programming is a way of connecting two nodes on a network to communicate with each other.\n",
    "Sockets are interior endpoints built in for sending and receving data.\n",
    "Sockets are a combination of IP address and a Port number."
   ]
  },
  {
   "attachments": {},
   "cell_type": "markdown",
   "metadata": {},
   "source": [
    "Socket programming is started by importing the socket library and making a simple socket.\n",
    "import the soket module, this module consist of built-in methods that are required for creating sockets and  help them associate with each other."
   ]
  },
  {
   "attachments": {},
   "cell_type": "markdown",
   "metadata": {},
   "source": [
    "important methods of the *socket* module are:\n",
    "<img src=\"./socket-metods.png\">"
   ]
  },
  {
   "attachments": {},
   "cell_type": "markdown",
   "metadata": {},
   "source": [
    "what exactly are server and clients? \n",
    "<img src=\"./Forest-Gardens.png\">"
   ]
  },
  {
   "attachments": {},
   "cell_type": "markdown",
   "metadata": {},
   "source": [
    "A simple server-client program: \n",
    "Server: \n",
    "<ul>\n",
    "<li>First of all, we import socket which is necessary.</li>\n",
    "<li>Then we made a socket object and reserved a port on our pc.</li>\n",
    "<li>After that, we bound our server to the specified port. Passing an empty string means that the server can listen to incoming connections from other computers as well. If we would have passed 127.0.0.1 then it would have listened to only those calls made within the local computer.</li>\n",
    "<li>After that we put the server into listening mode\n",
    ".5 here means that 5 connections are kept waiting if the server is busy and if a 6th socket tries to connect then the connection is refused.</li>\n",
    "<li>At last, we make a while loop and start to accept all incoming connections and close those connections after a thank you message\n",
    " to all connected sockets.</li>\n",
    "</ul>\n"
   ]
  },
  {
   "cell_type": "code",
   "execution_count": null,
   "metadata": {
    "vscode": {
     "languageId": "plaintext"
    }
   },
   "outputs": [],
   "source": [
    "server.py\n",
    "\n",
    "import socket\n",
    "#Here we made a socket instance and passed it two parameters. The first parameter is AF_INET and the second one is SOCK_STREAM. AF_INET refers to the address-family ipv4. The SOCK_STREAM means connection-oriented TCP protocol. \n",
    "Now we can connect to a server using this socket.\n",
    "myserver=socket.socket(socket.AF_INET, socket.SOCK_STREAM)\n",
    "myserver.bind((socket.gethostname(),5002))\n",
    "myserver.listen(5) \n",
    "while True:\n",
    " clt,adrs=myserver.accept()\n",
    " print(f\"client address is {adrs} connected\")\n",
    " clt.send(bytes(\"first socket programming\",\"utf-8\"))\n",
    " clt.close()"
   ]
  },
  {
   "cell_type": "markdown",
   "metadata": {},
   "source": []
  },
  {
   "attachments": {},
   "cell_type": "markdown",
   "metadata": {},
   "source": [
    "Now we need something with which a server can interact. We could telnet to the server like this just to know that our server is working."
   ]
  },
  {
   "cell_type": "code",
   "execution_count": null,
   "metadata": {
    "vscode": {
     "languageId": "plaintext"
    }
   },
   "outputs": [],
   "source": [
    "client.py\n",
    "\n",
    "import socket\n",
    "myclient=socket.socket(socket.AF_INET,socket.SOCK_STREAM)\n",
    "myclient.connect((socket.gethostname(),5002))\n",
    "msg=myclient.recv(1024)\n",
    "print(msg.decode(\"utf-8\"))\n"
   ]
  },
  {
   "attachments": {},
   "cell_type": "markdown",
   "metadata": {},
   "source": [
    "<img src=\"./pythonobj.png\">"
   ]
  },
  {
   "attachments": {},
   "cell_type": "markdown",
   "metadata": {},
   "source": [
    "The pickle module is used for implementing binary protocols for serializing and de-serializing a Python object structure. \n",
    " \n",
    "<ui>\n",
    "<li>Pickling: It is a process where a Python object hierarchy is converted into a byte stream. </li>\n",
    " \n",
    "<li>Unpickling: It is the inverse of Pickling process where a byte stream is converted into an object hierarchy.</li></ui> \n",
    " "
   ]
  },
  {
   "attachments": {},
   "cell_type": "markdown",
   "metadata": {},
   "source": [
    "<ui>\n",
    "<li>dumps() – This function is called to serialize an object hierarchy.</li>\n",
    "<li>loads() – This function is called to de-serialize a data stream.</li></ui>"
   ]
  }
 ],
 "metadata": {
  "language_info": {
   "name": "python"
  },
  "orig_nbformat": 4
 },
 "nbformat": 4,
 "nbformat_minor": 2
}
